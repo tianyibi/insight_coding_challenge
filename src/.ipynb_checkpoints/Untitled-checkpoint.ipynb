{
 "cells": [
  {
   "cell_type": "code",
   "execution_count": 25,
   "metadata": {
    "scrolled": false
   },
   "outputs": [],
   "source": [
    "file_str = \"h1b_input.csv\"\n",
    "# read file\n",
    "occ_dic = {}\n",
    "state_dic = {}\n",
    "total_certified = 0\n",
    "with open(\"../input/\"+file_str, 'r') as f:\n",
    "    line1 = f.readline().rstrip('\\n').split(';')\n",
    "    # find index of SOC_NAME, SOC_CODE, CASE_STATUS\n",
    "    col_idx = [None for _ in range(4)]\n",
    "    for idx, col in enumerate(line1):\n",
    "        if \"soc_name\" in col.lower():\n",
    "            col_idx[0] = idx\n",
    "        elif \"soc_code\" in col.lower():\n",
    "            col_idx[1] = idx\n",
    "        elif \"status\" in col.lower():\n",
    "            col_idx[2] = idx\n",
    "        elif \"state\" in col.lower() and \"work\" in col.lower():\n",
    "            col_idx[3] = idx\n",
    "\n",
    "    if None in col_idx:\n",
    "        raise ValueError(\"missing one of the SOC_NAME, SOC_CODE, CASE_STATUS or WORKSITE_STATE column\")\n",
    "    \n",
    "    for line in f:\n",
    "        entry = line.rstrip('\\n').split(';')\n",
    "        key = (entry[col_idx[1]])\n",
    "        key_state = (entry[col_idx[3]])\n",
    "        value_state = entry[col_idx[3]]\n",
    "        value =  entry[col_idx[0]].strip('\\\"')\n",
    "        \n",
    "        if entry[col_idx[2]].lower() == \"certified\":\n",
    "            total_certified += 1\n",
    "            \n",
    "            try:\n",
    "                occ_dic[key][0] -= 1\n",
    "            except KeyError:\n",
    "                occ_dic[key] = [-1, value]\n",
    "            \n",
    "            try:\n",
    "                state_dic[key_state][0] -= 1\n",
    "            except KeyError:\n",
    "                state_dic[key_state] = [-1, value_state]\n",
    "\n",
    "#?????????????? if 10 item, will exceed 10 lines due to header\n",
    "top_10_item = sorted(occ_dic.values())[:] \n",
    "top_10_state = sorted(state_dic.values())[:]\n",
    "    \n",
    "with open(\"top_10_occupations.txt\", 'w') as f:\n",
    "    f.write(\"TOP_OCCUPATIONS;NUMBER_CERTIFIED_APPLICATIONS;PERCENTAGE\\n\")\n",
    "    \n",
    "    for item in top_10_item:\n",
    "        f.write(\"{};{:d};{:.1f}%\\n\".format(item[1].upper(), -item[0], -item[0]*100/total_certified))\n",
    "\n",
    "with open(\"top_10_states.txt\", 'w') as f:\n",
    "    f.write(\"TOP_STATES;NUMBER_CERTIFIED_APPLICATIONS;PERCENTAGE\\n\")\n",
    "    \n",
    "    for state in top_10_state:\n",
    "        f.write(\"{};{:d};{:.1f}%\\n\".format(state[1].upper(), -state[0], -state[0]*100/total_certified))\n",
    "\n",
    "        \n",
    "        "
   ]
  },
  {
   "cell_type": "code",
   "execution_count": 22,
   "metadata": {},
   "outputs": [
    {
     "data": {
      "text/plain": [
       "True"
      ]
     },
     "execution_count": 22,
     "metadata": {},
     "output_type": "execute_result"
    }
   ],
   "source": [
    "\"status\" in \"CASE_STATUS\".lower()"
   ]
  },
  {
   "cell_type": "code",
   "execution_count": 23,
   "metadata": {},
   "outputs": [],
   "source": [
    "dic = {\"a\": 1, \"b\":2}"
   ]
  },
  {
   "cell_type": "code",
   "execution_count": 29,
   "metadata": {},
   "outputs": [
    {
     "data": {
      "text/plain": [
       "[2, 1]"
      ]
     },
     "execution_count": 29,
     "metadata": {},
     "output_type": "execute_result"
    }
   ],
   "source": [
    "sorted(dic.values(), reverse = True)"
   ]
  },
  {
   "cell_type": "code",
   "execution_count": 25,
   "metadata": {},
   "outputs": [
    {
     "data": {
      "text/plain": [
       "dict_values([1, 2])"
      ]
     },
     "execution_count": 25,
     "metadata": {},
     "output_type": "execute_result"
    }
   ],
   "source": [
    "dic.values()"
   ]
  },
  {
   "cell_type": "code",
   "execution_count": 12,
   "metadata": {},
   "outputs": [
    {
     "data": {
      "text/plain": [
       "False"
      ]
     },
     "execution_count": 12,
     "metadata": {},
     "output_type": "execute_result"
    }
   ],
   "source": [
    "\"mn\" > \"nm\""
   ]
  },
  {
   "cell_type": "code",
   "execution_count": null,
   "metadata": {},
   "outputs": [],
   "source": []
  }
 ],
 "metadata": {
  "kernelspec": {
   "display_name": "Python 3",
   "language": "python",
   "name": "python3"
  },
  "language_info": {
   "codemirror_mode": {
    "name": "ipython",
    "version": 3
   },
   "file_extension": ".py",
   "mimetype": "text/x-python",
   "name": "python",
   "nbconvert_exporter": "python",
   "pygments_lexer": "ipython3",
   "version": "3.6.7"
  }
 },
 "nbformat": 4,
 "nbformat_minor": 2
}
